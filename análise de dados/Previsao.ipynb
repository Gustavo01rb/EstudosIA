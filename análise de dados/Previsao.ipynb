{
  "nbformat": 4,
  "nbformat_minor": 0,
  "metadata": {
    "colab": {
      "name": "Untitled0.ipynb",
      "provenance": [],
      "collapsed_sections": [
        "xQY2B0WhmQV1",
        "kV-FJLyQnhDA",
        "Y16a6ipnn9xy",
        "2Mm4JogBrIj8",
        "ttn33eTArN6T",
        "HAs-PE7Gt5JQ"
      ]
    },
    "kernelspec": {
      "name": "python3",
      "display_name": "Python 3"
    },
    "language_info": {
      "name": "python"
    }
  },
  "cells": [
    {
      "cell_type": "markdown",
      "source": [
        "# **Import das bibliotecas utilizadas**"
      ],
      "metadata": {
        "id": "xQY2B0WhmQV1"
      }
    },
    {
      "cell_type": "code",
      "execution_count": 25,
      "metadata": {
        "id": "-T_-Qq6-wk9A",
        "colab": {
          "base_uri": "https://localhost:8080/"
        },
        "outputId": "eaa95532-7063-4b49-aba1-58839d11156a"
      },
      "outputs": [
        {
          "output_type": "stream",
          "name": "stdout",
          "text": [
            "   Ultimo  Abertura  Maxima  Minima  Ultimo_2  Abertura_2  Maxima_2  Minima_2  \\\n",
            "0  1.0127    0.9848  1.0165  0.9829    1.0013      1.0127    1.0317    0.9939   \n",
            "1  1.0013    1.0127  1.0317  0.9939    1.0022      1.0013    1.0150    0.9913   \n",
            "2  1.0022    1.0013  1.0150  0.9913    0.9913      1.0022    1.0099    0.9906   \n",
            "3  0.9913    1.0022  1.0099  0.9906    0.9950      0.9913    1.0001    0.9895   \n",
            "4  0.9950    0.9913  1.0001  0.9895    0.9926      0.9950    0.9986    0.9864   \n",
            "\n",
            "   Ultimo_3  Abertura_3  Maxima_3  Minima_3  Dia_seguinte  \n",
            "0    1.0022      1.0013    1.0150    0.9913        0.9913  \n",
            "1    0.9913      1.0013    1.0099    0.9906        0.9950  \n",
            "2    0.9950      0.9913    1.0001    0.9895        0.9926  \n",
            "3    0.9926      0.9950    0.9986    0.9864        0.9952  \n",
            "4    0.9952      0.9926    1.0000    0.9867        1.0006  \n"
          ]
        }
      ],
      "source": [
        "import numpy as np\n",
        "import pandas as pd\n",
        "import matplotlib.pyplot as plt\n",
        "import seaborn as sns\n",
        "from seaborn import regression\n",
        "from pylab import plot, show, legend, title, xlabel, ylabel, axis\n",
        "from sklearn.model_selection import train_test_split\n",
        "from sklearn.tree import DecisionTreeRegressor\n",
        "sns.set()\n",
        "plt.style.use('seaborn-whitegrid')\n",
        "\n",
        "data = pd.read_csv(\"/content/usd_coin.csv\")\n",
        "print(data.head())"
      ]
    },
    {
      "cell_type": "markdown",
      "source": [
        "# **Análise dos dados**"
      ],
      "metadata": {
        "id": "kV-FJLyQnhDA"
      }
    },
    {
      "cell_type": "code",
      "source": [
        "plt.figure(figsize=(10, 4))\n",
        "plt.title(\"USD - Variação da taxa de câmbio\")\n",
        "plt.ylabel(\"Fechamento\")\n",
        "plt.xlabel(\"Tempo\")\n",
        "plt.plot(data[\"Ultimo\"])\n",
        "plt.show()"
      ],
      "metadata": {
        "id": "uit8BSzow4Xh"
      },
      "execution_count": null,
      "outputs": []
    },
    {
      "cell_type": "code",
      "source": [
        "print(data.corr())\n",
        "sns.heatmap(data.corr())\n",
        "plt.show()"
      ],
      "metadata": {
        "id": "IH1xvG9LxavH"
      },
      "execution_count": null,
      "outputs": []
    },
    {
      "cell_type": "markdown",
      "source": [
        "# **Definindo varáveis para o cálculo**"
      ],
      "metadata": {
        "id": "Y16a6ipnn9xy"
      }
    },
    {
      "cell_type": "markdown",
      "source": [
        "## Base aleatória"
      ],
      "metadata": {
        "id": "2Mm4JogBrIj8"
      }
    },
    {
      "cell_type": "code",
      "source": [
        "x_a = data[[\"Abertura_2\",\"Ultimo_2\",\"Ultimo_3\",\"Minima_2\",\"Abertura\",\"Abertura_3\",\"Ultimo\",\"Minima_3\",\"Minima\",\"Maxima_2\"]]\n",
        "y_a = data[\"Dia_seguinte\"]\n",
        "x_a = x_a.to_numpy()\n",
        "y_a = y_a.to_numpy()\n",
        "y_a = y_a.reshape(-1, 1)"
      ],
      "metadata": {
        "id": "T0fwYqB1xhz2"
      },
      "execution_count": 28,
      "outputs": []
    },
    {
      "cell_type": "markdown",
      "source": [
        "## Base ordenada"
      ],
      "metadata": {
        "id": "ttn33eTArN6T"
      }
    },
    {
      "cell_type": "code",
      "source": [
        "x_o = data[[\"Ultimo_3\", \"Ultimo_2\",\"Abertura_3\"]]\n",
        "y_o = data[\"Dia_seguinte\"]\n",
        "x_o = x_o.to_numpy()\n",
        "y_o = y_o.to_numpy()\n",
        "y_o = y_o.reshape(-1, 1)"
      ],
      "metadata": {
        "id": "OPG4Pw6MrGqb"
      },
      "execution_count": 29,
      "outputs": []
    },
    {
      "cell_type": "markdown",
      "source": [
        "# **Aplicando árvores de decisões às bases ordenadas e aleatórias**"
      ],
      "metadata": {
        "id": "HAs-PE7Gt5JQ"
      }
    },
    {
      "cell_type": "code",
      "source": [
        "test_number = 0.2\n",
        "x_a_train, x_a_test, y_a_train, y_a_test = train_test_split(x_a, y_a, test_size=test_number, random_state=42)\n",
        "x_o_train, x_o_test, y_o_train, y_o_test = train_test_split(x_o, y_o, test_size=test_number, random_state=42)\n",
        "\n",
        "\n",
        "model_a = DecisionTreeRegressor()\n",
        "model_a.fit(x_a_train, y_a_train)\n",
        "ypred_a = model_a.predict(x_a_test)\n",
        "\n",
        "model_o = DecisionTreeRegressor()\n",
        "model_o.fit(x_o_train, y_o_train)\n",
        "ypred_o = model_o.predict(x_o_test)"
      ],
      "metadata": {
        "id": "2kfQ4o96xvH4"
      },
      "execution_count": 30,
      "outputs": []
    },
    {
      "cell_type": "markdown",
      "source": [
        "## Exibição dos resultados obtidos"
      ],
      "metadata": {
        "id": "msR3gahHuiAH"
      }
    },
    {
      "cell_type": "code",
      "source": [
        "data_a = pd.DataFrame(data={\"Resultados obtidos base aleatória\": ypred_a.flatten()})\n",
        "data_o = pd.DataFrame(data={\"Resultados obtidos base ordenada\": ypred_o.flatten()})\n",
        "print(data_a)\n",
        "print(data_o)"
      ],
      "metadata": {
        "colab": {
          "base_uri": "https://localhost:8080/"
        },
        "id": "hnKo4GDQxxOO",
        "outputId": "dbf39362-e0fd-48f4-83e5-6fb66a8aa874"
      },
      "execution_count": 31,
      "outputs": [
        {
          "output_type": "stream",
          "name": "stdout",
          "text": [
            "     Resultados obtidos base aleatória\n",
            "0                               0.9993\n",
            "1                               1.0007\n",
            "2                               0.9970\n",
            "3                               0.9999\n",
            "4                               1.0003\n",
            "..                                 ...\n",
            "214                             0.9999\n",
            "215                             0.9991\n",
            "216                             1.0014\n",
            "217                             1.0000\n",
            "218                             0.9964\n",
            "\n",
            "[219 rows x 1 columns]\n",
            "     Resultados obtidos base ordenada\n",
            "0                            1.000900\n",
            "1                            0.998900\n",
            "2                            0.999000\n",
            "3                            1.000000\n",
            "4                            0.999800\n",
            "..                                ...\n",
            "214                          0.999540\n",
            "215                          0.999891\n",
            "216                          0.999900\n",
            "217                          0.999517\n",
            "218                          1.000600\n",
            "\n",
            "[219 rows x 1 columns]\n"
          ]
        }
      ]
    },
    {
      "cell_type": "markdown",
      "source": [
        "# **Calclulando o erro com base no resultado obtido e no resultado esperado**"
      ],
      "metadata": {
        "id": "uskeQo3-uqb9"
      }
    },
    {
      "cell_type": "code",
      "source": [
        "error_a = y_a - ypred_a\n",
        "error_o = y_o - ypred_o\n",
        "\n",
        "average_a = sum(error_a[0])/len(error_a[0]) # Média\n",
        "average_o = sum(error_o[0])/len(error_o[0]) # Média\n",
        "\n",
        "error_a = pd.DataFrame(data={\"Erro aleatório\": error_a.flatten()})\n",
        "error_o = pd.DataFrame(data={\"Erro ordenado\": error_o.flatten()})\n",
        "\n",
        "\n",
        "print(error_a.head())\n",
        "print(error_o.head())\n",
        "\n",
        "print(\"\\n\\nMédia dos erros aleatórios: \", average_a)\n",
        "print(\"Média dos erros ordenados: \", average_o)\n",
        "print(\"Diferença: \", average_a - average_o)\n",
        "\n"
      ],
      "metadata": {
        "colab": {
          "base_uri": "https://localhost:8080/"
        },
        "id": "zQWFqEeAtxry",
        "outputId": "2bee9068-875f-4478-d5c4-3fa009a88270"
      },
      "execution_count": 32,
      "outputs": [
        {
          "output_type": "stream",
          "name": "stdout",
          "text": [
            "   Erro aleatório\n",
            "0         -0.0080\n",
            "1         -0.0094\n",
            "2         -0.0057\n",
            "3         -0.0086\n",
            "4         -0.0090\n",
            "   Erro ordenado\n",
            "0        -0.0096\n",
            "1        -0.0076\n",
            "2        -0.0077\n",
            "3        -0.0087\n",
            "4        -0.0085\n",
            "\n",
            "\n",
            "Média dos erros aleatórios:  -0.008437899543379037\n",
            "Média dos erros ordenados:  -0.008379829986097152\n",
            "Diferença:  -5.8069557281884704e-05\n"
          ]
        }
      ]
    },
    {
      "cell_type": "code",
      "source": [
        "Target = y_a[0:219]\n",
        "Predicted = ypred_a\n",
        "plt.plot(Target, label= \"Objetivo\")\n",
        "plt.plot(Predicted, label= \"Previsto\")\n",
        "plt.legend()\n",
        "plt.show()\n",
        "\n",
        "Target = y_o[0:219]\n",
        "Predicted = ypred_o\n",
        "plt.plot(Target, label= \"Objetivo\")\n",
        "plt.plot(Predicted, label= \"Previsto\")\n",
        "plt.legend()\n",
        "plt.show()"
      ],
      "metadata": {
        "id": "x-OA31YtyZj0"
      },
      "execution_count": null,
      "outputs": []
    },
    {
      "cell_type": "code",
      "source": [
        "plt.plot(ypred_o, label= \"Erro na base Ordenada\")\n",
        "plt.plot(ypred_a, label= \"Erro na base Aleatória\")\n",
        "plt.title(\"Comparação dos error obtidos\")\n",
        "plt.ylabel(\"Erro com relação ao esperado\")\n",
        "plt.xlabel(\"Linha da base de dados\")\n",
        "plt.legend()\n",
        "plt.show()"
      ],
      "metadata": {
        "id": "wn-pU8sRvSfW",
        "colab": {
          "base_uri": "https://localhost:8080/",
          "height": 293
        },
        "outputId": "d54009f7-c5f4-42d6-bacb-e516f0110c2e"
      },
      "execution_count": 38,
      "outputs": [
        {
          "output_type": "display_data",
          "data": {
            "text/plain": [
              "<Figure size 432x288 with 1 Axes>"
            ],
            "image/png": "[encoded data removed]"
          },
          "metadata": {}
        }
      ]
    }
  ]
}